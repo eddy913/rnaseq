{
 "cells": [
  {
   "cell_type": "markdown",
   "metadata": {},
   "source": [
    "# HTseq\n",
    "\n",
    "   \n",
    "   ## 1. gene annotation - GTF or GFF file for HTseq count funciton\n",
    "         e.g. human Gencode V25 - comprehansive gene annotations\n",
    "         link: http://www.gencodegenes.org/releases/25.html\n",
    "   \n",
    "   ## 2. sorted BAM files from STAR aligner\n",
    "         note: STAR sort BAM based on mapped read coordinates\n",
    "         \n",
    "   ## 3. htseq-count: \n",
    "         more information: http://htseq.readthedocs.io/en/release_0.9.1/count.html?highlight=htseq-count\n",
    "   \n",
    "         Basic command line: htseq-count [options] <alignment_files> <gff_file> > htseq_output_countfile\n",
    "         options:\n",
    "         -f <format>, --format=<format> sam/bam\n",
    "         -r <order>, --order=<order> name/pros (aligned read ID/positions)\n",
    "                     for paired end reads, alignment files have to be sorted.\n",
    "         \n",
    "         -i <id attribute>, --idattr=<id attribute> e.g. gene_id, gene_name"
   ]
  },
  {
   "cell_type": "code",
   "execution_count": 18,
   "metadata": {},
   "outputs": [
    {
     "name": "stdout",
     "output_type": "stream",
     "text": [
      "/data/project/STAR_alignment/STAR_output/SRR3649333/Aligned.sortedByCoord.out.bam\n",
      "SRR3649333_parental_output.txt\n",
      "/data/project/HTseq/htseq_output/SRR3649333_parental_output.txt\n"
     ]
    }
   ],
   "source": [
    "file_read = open(\"HTseq.config\", \"r\")\n",
    "input_dir = []\n",
    "output_dir = \"\"\n",
    "output_name = []\n",
    "output_group = []\n",
    "\n",
    "for line in file_read:\n",
    "    if line.startswith(\"inputBAM>\"):  #parse path for BAM input file\n",
    "        line = line[9:]\n",
    "        line = line.strip()\n",
    "        input_dir.append(line)\n",
    "    if line.startswith(\"outputpath>\"): #parse path for output HTseq files\n",
    "        line=line.strip()\n",
    "        output_dir = line[11:]\n",
    "    if line.startswith(\"groupinfo>\"):  #parse dataset info (dataID and group/condition)\n",
    "        line = line[10:]\n",
    "        output = line.strip().split(\"_\")\n",
    "        output_name.append(output[0])\n",
    "        output_group.append(output[1])\n",
    "#print(input_dir)\n",
    "#print(output_dir)\n",
    "#print(output_name)\n",
    "#print(output_group)\n",
    "file_read.close()\n",
    "\n",
    "\n",
    "file_write = open (\"/data/project/HTseq/deseq2_inputsummary.txt\", \"w\") # initiate a meta file table for downstream DESeq\n",
    "file_write.write(\"sampleID\\t\"+\"filenames\\t\"+\"conditions\"+\"\\n\")\n",
    "\n",
    "for i in range(0,len(input_dir)):\n",
    "    input_path = input_dir[i]\n",
    "    output_filename = output_name[i]+\"_\"+output_group[i]+\"_output.txt\"\n",
    "    output_path_name = str(output_dir)+output_filename\n",
    "    #print(input_path)\n",
    "    #print(output_filename)\n",
    "    #print(output_path_name)\n",
    "    file_write.write(output_name[i]+\"\\t\"+output_filename+\"\\t\"+output_group[i]+\"\\n\")\n",
    "    ! time htseq-count -f bam -r pos -i gene_name \\\n",
    "    $input_path GencodeV25_GTF/CHR_comprehansive_V25.gtf > $output_path_name\n",
    "\n",
    "file_write.close()\n",
    "    "
   ]
  },
  {
   "cell_type": "code",
   "execution_count": 10,
   "metadata": {},
   "outputs": [
    {
     "name": "stdout",
     "output_type": "stream",
     "text": [
      "100000 GFF lines processed.\n",
      "200000 GFF lines processed.\n",
      "300000 GFF lines processed.\n",
      "400000 GFF lines processed.\n",
      "500000 GFF lines processed.\n",
      "600000 GFF lines processed.\n",
      "700000 GFF lines processed.\n",
      "800000 GFF lines processed.\n",
      "900000 GFF lines processed.\n",
      "1000000 GFF lines processed.\n",
      "1100000 GFF lines processed.\n",
      "1200000 GFF lines processed.\n",
      "1300000 GFF lines processed.\n",
      "1400000 GFF lines processed.\n",
      "1500000 GFF lines processed.\n",
      "1600000 GFF lines processed.\n",
      "1700000 GFF lines processed.\n",
      "1800000 GFF lines processed.\n",
      "1900000 GFF lines processed.\n",
      "2000000 GFF lines processed.\n",
      "2100000 GFF lines processed.\n",
      "2200000 GFF lines processed.\n",
      "2300000 GFF lines processed.\n",
      "2400000 GFF lines processed.\n",
      "2500000 GFF lines processed.\n",
      "2579817 GFF lines processed.\n",
      "100000 SAM alignment record pairs processed.\n",
      "Warning: Mate records missing for 17267 records; first such record: <SAM_Alignment object: Paired-end read 'SRR3649333.53769775' aligned to chr1:[16357,16382)/+>.\n",
      "200000 SAM alignment record pairs processed.\n",
      "Warning: Mate pairing was ambiguous for 28 records; mate key for first such record: ('SRR3649333.16023632', 'first', 'chr1', 136331, 'chr1', 136644, 388).\n",
      "208545 SAM alignment pairs processed.\n",
      "257.56user 2.26system 4:20.92elapsed 99%CPU (0avgtext+0avgdata 247156maxresident)k\n",
      "2495264inputs+1272outputs (108major+80373minor)pagefaults 0swaps\n"
     ]
    }
   ],
   "source": [
    "# test run\n",
    "\n",
    "! time htseq-count -f bam -r pos -i gene_name \\\n",
    "/data/project/HTseq/htseq_test2/test_333.bam GencodeV25_GTF/CHR_comprehansive_V25.gtf > /data/project/HTseq/htseq_test2/htseq_test333_output.txt\n"
   ]
  },
  {
   "cell_type": "code",
   "execution_count": null,
   "metadata": {
    "collapsed": true
   },
   "outputs": [],
   "source": []
  }
 ],
 "metadata": {
  "kernelspec": {
   "display_name": "Python 3",
   "language": "python",
   "name": "python3"
  },
  "language_info": {
   "codemirror_mode": {
    "name": "ipython",
    "version": 3
   },
   "file_extension": ".py",
   "mimetype": "text/x-python",
   "name": "python",
   "nbconvert_exporter": "python",
   "pygments_lexer": "ipython3",
   "version": "3.6.3"
  }
 },
 "nbformat": 4,
 "nbformat_minor": 2
}
